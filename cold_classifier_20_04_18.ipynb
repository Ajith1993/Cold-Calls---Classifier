{
  "nbformat": 4,
  "nbformat_minor": 0,
  "metadata": {
    "colab": {
      "name": "cold_beta.ipynb",
      "version": "0.3.2",
      "views": {},
      "default_view": {},
      "provenance": [],
      "collapsed_sections": []
    },
    "kernelspec": {
      "name": "python3",
      "display_name": "Python 3"
    },
    "accelerator": "GPU"
  },
  "cells": [
    {
      "metadata": {
        "id": "Wz-KX1E641qc",
        "colab_type": "code",
        "colab": {
          "autoexec": {
            "startup": false,
            "wait_interval": 0
          },
          "resources": {
            "http://localhost:8080/nbextensions/google.colab/files.js": {
              "data": "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",
              "ok": true,
              "headers": [
                [
                  "content-type",
                  "application/javascript"
                ]
              ],
              "status": 200,
              "status_text": "OK"
            }
          },
          "base_uri": "https://localhost:8080/",
          "height": 112
        },
        "outputId": "757afeff-3ff2-4fae-a6dd-24122cbd48b2",
        "executionInfo": {
          "status": "ok",
          "timestamp": 1524226795218,
          "user_tz": -330,
          "elapsed": 19790,
          "user": {
            "displayName": "Ajith Chacko",
            "photoUrl": "//lh3.googleusercontent.com/-IM028mODtmk/AAAAAAAAAAI/AAAAAAAAAE8/4dhiV_wDIpk/s50-c-k-no/photo.jpg",
            "userId": "114111954649895676809"
          }
        }
      },
      "cell_type": "code",
      "source": [
        "from google.colab import files\n",
        "\n",
        "uploaded = files.upload()"
      ],
      "execution_count": 2,
      "outputs": [
        {
          "output_type": "display_data",
          "data": {
            "text/html": [
              "\n",
              "     <input type=\"file\" id=\"files-338343d2-cba2-4286-9784-6aa3ab579db8\" name=\"files[]\" multiple disabled />\n",
              "     <output id=\"result-338343d2-cba2-4286-9784-6aa3ab579db8\">\n",
              "      Upload widget is only available when the cell has been executed in the\n",
              "      current browser session. Please rerun this cell to enable.\n",
              "      </output>\n",
              "      <script src=\"/nbextensions/google.colab/files.js\"></script> "
            ],
            "text/plain": [
              "<IPython.core.display.HTML object>"
            ]
          },
          "metadata": {
            "tags": []
          }
        },
        {
          "output_type": "stream",
          "text": [
            "Saving carInsurance_test.csv to carInsurance_test.csv\n",
            "Saving carInsurance_train.csv to carInsurance_train.csv\n"
          ],
          "name": "stdout"
        }
      ]
    },
    {
      "metadata": {
        "id": "W2CaRUwIR5c2",
        "colab_type": "text"
      },
      "cell_type": "markdown",
      "source": [
        "'''I use Google Coloboratory ,as my machine cannot handle these large computations\n",
        "\n",
        "\n",
        "The aim is to build a classifier to predict the success rate of car insurance cold calls.\n",
        "This is more focussed on modelling of the classifier\n",
        "'''\n"
      ]
    },
    {
      "metadata": {
        "id": "px7Lt_uw5Go0",
        "colab_type": "code",
        "colab": {
          "autoexec": {
            "startup": false,
            "wait_interval": 0
          },
          "base_uri": "https://localhost:8080/",
          "height": 941
        },
        "outputId": "fa0ab13d-cbfd-41e6-9c79-01ade4719a0f",
        "executionInfo": {
          "status": "ok",
          "timestamp": 1524226803448,
          "user_tz": -330,
          "elapsed": 1878,
          "user": {
            "displayName": "Ajith Chacko",
            "photoUrl": "//lh3.googleusercontent.com/-IM028mODtmk/AAAAAAAAAAI/AAAAAAAAAE8/4dhiV_wDIpk/s50-c-k-no/photo.jpg",
            "userId": "114111954649895676809"
          }
        }
      },
      "cell_type": "code",
      "source": [
        "#importing the necessary libraries\n",
        "import numpy as np\n",
        "import pandas as pd\n",
        "import matplotlib.pyplot as plt\n",
        "# %matplotlib inline\n",
        "import warnings\n",
        "warnings.filterwarnings('ignore')\n",
        "\n",
        "# the datsets are loaded into the the dataframes\n",
        "import io\n",
        "train= pd.read_csv(io.StringIO(uploaded['carInsurance_train.csv'].decode('utf-8')))\n",
        "test= pd.read_csv(io.StringIO(uploaded['carInsurance_test.csv'].decode('utf-8')))\n",
        "\n",
        "# Look at missing values percentage for each attribute\n",
        "print(\"Missing % of attributes in Train\")\n",
        "print( train.apply(lambda x: x.isnull().sum()*100.0/len(train),axis=0) )\n",
        "print(\"Missing % of attributes in Test\")\n",
        "print( test.apply(lambda x: x.isnull().sum()*100.0/len(test),axis=0) )\n",
        "\n",
        "# Look at percentage of rows having atleast one missing value\n",
        "print(\"Missing % of attributes in Train\")\n",
        "print(train.apply(lambda x: 1 if x.isnull().sum() > 0 else 0,axis=1).sum() /len(train))\n",
        "print(\"Missing % of attributes in Test\")\n",
        "print(test.apply(lambda x: 1 if x.isnull().sum() > 0 else 0,axis=1).sum() / len(test))\n",
        "\n",
        "# Percentage of patients who have a Car Insurance\n",
        "print(train.CarInsurance.value_counts() * 100.0 / len(train))"
      ],
      "execution_count": 3,
      "outputs": [
        {
          "output_type": "stream",
          "text": [
            "Missing % of attributes in Train\n",
            "Id                   0.000\n",
            "Age                  0.000\n",
            "Job                  0.475\n",
            "Marital              0.000\n",
            "Education            4.225\n",
            "Default              0.000\n",
            "Balance              0.000\n",
            "HHInsurance          0.000\n",
            "CarLoan              0.000\n",
            "Communication       22.550\n",
            "LastContactDay       0.000\n",
            "LastContactMonth     0.000\n",
            "NoOfContacts         0.000\n",
            "DaysPassed           0.000\n",
            "PrevAttempts         0.000\n",
            "Outcome             76.050\n",
            "CallStart            0.000\n",
            "CallEnd              0.000\n",
            "CarInsurance         0.000\n",
            "dtype: float64\n",
            "Missing % of attributes in Test\n",
            "Id                    0.0\n",
            "Age                   0.0\n",
            "Job                   0.5\n",
            "Marital               0.0\n",
            "Education             4.7\n",
            "Default               0.0\n",
            "Balance               0.0\n",
            "HHInsurance           0.0\n",
            "CarLoan               0.0\n",
            "Communication        22.1\n",
            "LastContactDay        0.0\n",
            "LastContactMonth      0.0\n",
            "NoOfContacts          0.0\n",
            "DaysPassed            0.0\n",
            "PrevAttempts          0.0\n",
            "Outcome              75.7\n",
            "CallStart             0.0\n",
            "CallEnd               0.0\n",
            "CarInsurance        100.0\n",
            "dtype: float64\n",
            "Missing % of attributes in Train\n",
            "0.77325\n",
            "Missing % of attributes in Test\n",
            "1.0\n",
            "0    59.9\n",
            "1    40.1\n",
            "Name: CarInsurance, dtype: float64\n"
          ],
          "name": "stdout"
        }
      ]
    },
    {
      "metadata": {
        "id": "vdl48Clf5RQo",
        "colab_type": "code",
        "colab": {
          "autoexec": {
            "startup": false,
            "wait_interval": 0
          },
          "base_uri": "https://localhost:8080/",
          "height": 361
        },
        "outputId": "04e49d95-1c08-47d3-839f-0af3cdccae05",
        "executionInfo": {
          "status": "ok",
          "timestamp": 1524226805774,
          "user_tz": -330,
          "elapsed": 934,
          "user": {
            "displayName": "Ajith Chacko",
            "photoUrl": "//lh3.googleusercontent.com/-IM028mODtmk/AAAAAAAAAAI/AAAAAAAAAE8/4dhiV_wDIpk/s50-c-k-no/photo.jpg",
            "userId": "114111954649895676809"
          }
        }
      },
      "cell_type": "code",
      "source": [
        "import seaborn as sns\n",
        "# Age\n",
        "# Distribution Of Age\n",
        "sns.distplot(train.Age,bins=100)\n",
        "plt.show()"
      ],
      "execution_count": 4,
      "outputs": [
        {
          "output_type": "display_data",
          "data": {
            "image/png": "[encoded data removed]",
            "text/plain": [
              "<matplotlib.figure.Figure at 0x7f30a6a8fba8>"
            ]
          },
          "metadata": {
            "tags": []
          }
        }
      ]
    },
    {
      "metadata": {
        "id": "nzmhP5_S5W2y",
        "colab_type": "code",
        "colab": {
          "autoexec": {
            "startup": false,
            "wait_interval": 0
          },
          "base_uri": "https://localhost:8080/",
          "height": 380
        },
        "outputId": "0ff99b39-ff88-4c3d-ab97-faaa147054a9",
        "executionInfo": {
          "status": "ok",
          "timestamp": 1524226807750,
          "user_tz": -330,
          "elapsed": 870,
          "user": {
            "displayName": "Ajith Chacko",
            "photoUrl": "//lh3.googleusercontent.com/-IM028mODtmk/AAAAAAAAAAI/AAAAAAAAAE8/4dhiV_wDIpk/s50-c-k-no/photo.jpg",
            "userId": "114111954649895676809"
          }
        }
      },
      "cell_type": "code",
      "source": [
        "#Removal of Outliers from Balance and DaysPassed variables\n",
        "sns.boxplot(x= 'Balance',data=train)\n",
        "train.Balance.max()"
      ],
      "execution_count": 5,
      "outputs": [
        {
          "output_type": "execute_result",
          "data": {
            "text/plain": [
              "98417"
            ]
          },
          "metadata": {
            "tags": []
          },
          "execution_count": 5
        },
        {
          "output_type": "display_data",
          "data": {
            "image/png": "[encoded data removed]",
            "text/plain": [
              "<matplotlib.figure.Figure at 0x7f30a6956e80>"
            ]
          },
          "metadata": {
            "tags": []
          }
        }
      ]
    },
    {
      "metadata": {
        "id": "M6_IkbTd5dso",
        "colab_type": "code",
        "colab": {
          "autoexec": {
            "startup": false,
            "wait_interval": 0
          },
          "base_uri": "https://localhost:8080/",
          "height": 101
        },
        "outputId": "21e7d0b8-d248-44b9-e663-48f67ed49ef5",
        "executionInfo": {
          "status": "ok",
          "timestamp": 1524226811156,
          "user_tz": -330,
          "elapsed": 982,
          "user": {
            "displayName": "Ajith Chacko",
            "photoUrl": "//lh3.googleusercontent.com/-IM028mODtmk/AAAAAAAAAAI/AAAAAAAAAE8/4dhiV_wDIpk/s50-c-k-no/photo.jpg",
            "userId": "114111954649895676809"
          }
        }
      },
      "cell_type": "code",
      "source": [
        "train[train['Balance']==98417]\n"
      ],
      "execution_count": 6,
      "outputs": [
        {
          "output_type": "execute_result",
          "data": {
            "text/html": [
              "<div>\n",
              "<style scoped>\n",
              "    .dataframe tbody tr th:only-of-type {\n",
              "        vertical-align: middle;\n",
              "    }\n",
              "\n",
              "    .dataframe tbody tr th {\n",
              "        vertical-align: top;\n",
              "    }\n",
              "\n",
              "    .dataframe thead th {\n",
              "        text-align: right;\n",
              "    }\n",
              "</style>\n",
              "<table border=\"1\" class=\"dataframe\">\n",
              "  <thead>\n",
              "    <tr style=\"text-align: right;\">\n",
              "      <th></th>\n",
              "      <th>Id</th>\n",
              "      <th>Age</th>\n",
              "      <th>Job</th>\n",
              "      <th>Marital</th>\n",
              "      <th>Education</th>\n",
              "      <th>Default</th>\n",
              "      <th>Balance</th>\n",
              "      <th>HHInsurance</th>\n",
              "      <th>CarLoan</th>\n",
              "      <th>Communication</th>\n",
              "      <th>LastContactDay</th>\n",
              "      <th>LastContactMonth</th>\n",
              "      <th>NoOfContacts</th>\n",
              "      <th>DaysPassed</th>\n",
              "      <th>PrevAttempts</th>\n",
              "      <th>Outcome</th>\n",
              "      <th>CallStart</th>\n",
              "      <th>CallEnd</th>\n",
              "      <th>CarInsurance</th>\n",
              "    </tr>\n",
              "  </thead>\n",
              "  <tbody>\n",
              "    <tr>\n",
              "      <th>1742</th>\n",
              "      <td>1743</td>\n",
              "      <td>59</td>\n",
              "      <td>management</td>\n",
              "      <td>married</td>\n",
              "      <td>tertiary</td>\n",
              "      <td>0</td>\n",
              "      <td>98417</td>\n",
              "      <td>0</td>\n",
              "      <td>0</td>\n",
              "      <td>telephone</td>\n",
              "      <td>20</td>\n",
              "      <td>nov</td>\n",
              "      <td>5</td>\n",
              "      <td>-1</td>\n",
              "      <td>0</td>\n",
              "      <td>NaN</td>\n",
              "      <td>10:51:42</td>\n",
              "      <td>10:54:07</td>\n",
              "      <td>0</td>\n",
              "    </tr>\n",
              "  </tbody>\n",
              "</table>\n",
              "</div>"
            ],
            "text/plain": [
              "        Id  Age         Job  Marital Education  Default  Balance  HHInsurance  \\\n",
              "1742  1743   59  management  married  tertiary        0    98417            0   \n",
              "\n",
              "      CarLoan Communication  LastContactDay LastContactMonth  NoOfContacts  \\\n",
              "1742        0     telephone              20              nov             5   \n",
              "\n",
              "      DaysPassed  PrevAttempts Outcome CallStart   CallEnd  CarInsurance  \n",
              "1742          -1             0     NaN  10:51:42  10:54:07             0  "
            ]
          },
          "metadata": {
            "tags": []
          },
          "execution_count": 6
        }
      ]
    },
    {
      "metadata": {
        "id": "ueUF3Snw5h8O",
        "colab_type": "code",
        "colab": {
          "autoexec": {
            "startup": false,
            "wait_interval": 0
          }
        }
      },
      "cell_type": "code",
      "source": [
        "train_new = train.drop(train.index[1742])"
      ],
      "execution_count": 0,
      "outputs": []
    },
    {
      "metadata": {
        "id": "3zL20cQ05knQ",
        "colab_type": "code",
        "colab": {
          "autoexec": {
            "startup": false,
            "wait_interval": 0
          },
          "base_uri": "https://localhost:8080/",
          "height": 69
        },
        "outputId": "49f4b1f8-7b7d-478c-991f-42d9ca6d5837",
        "executionInfo": {
          "status": "ok",
          "timestamp": 1524226840228,
          "user_tz": -330,
          "elapsed": 854,
          "user": {
            "displayName": "Ajith Chacko",
            "photoUrl": "//lh3.googleusercontent.com/-IM028mODtmk/AAAAAAAAAAI/AAAAAAAAAE8/4dhiV_wDIpk/s50-c-k-no/photo.jpg",
            "userId": "114111954649895676809"
          }
        }
      },
      "cell_type": "code",
      "source": [
        "train_new[train_new['Balance']==98417]"
      ],
      "execution_count": 8,
      "outputs": [
        {
          "output_type": "execute_result",
          "data": {
            "text/html": [
              "<div>\n",
              "<style scoped>\n",
              "    .dataframe tbody tr th:only-of-type {\n",
              "        vertical-align: middle;\n",
              "    }\n",
              "\n",
              "    .dataframe tbody tr th {\n",
              "        vertical-align: top;\n",
              "    }\n",
              "\n",
              "    .dataframe thead th {\n",
              "        text-align: right;\n",
              "    }\n",
              "</style>\n",
              "<table border=\"1\" class=\"dataframe\">\n",
              "  <thead>\n",
              "    <tr style=\"text-align: right;\">\n",
              "      <th></th>\n",
              "      <th>Id</th>\n",
              "      <th>Age</th>\n",
              "      <th>Job</th>\n",
              "      <th>Marital</th>\n",
              "      <th>Education</th>\n",
              "      <th>Default</th>\n",
              "      <th>Balance</th>\n",
              "      <th>HHInsurance</th>\n",
              "      <th>CarLoan</th>\n",
              "      <th>Communication</th>\n",
              "      <th>LastContactDay</th>\n",
              "      <th>LastContactMonth</th>\n",
              "      <th>NoOfContacts</th>\n",
              "      <th>DaysPassed</th>\n",
              "      <th>PrevAttempts</th>\n",
              "      <th>Outcome</th>\n",
              "      <th>CallStart</th>\n",
              "      <th>CallEnd</th>\n",
              "      <th>CarInsurance</th>\n",
              "    </tr>\n",
              "  </thead>\n",
              "  <tbody>\n",
              "  </tbody>\n",
              "</table>\n",
              "</div>"
            ],
            "text/plain": [
              "Empty DataFrame\n",
              "Columns: [Id, Age, Job, Marital, Education, Default, Balance, HHInsurance, CarLoan, Communication, LastContactDay, LastContactMonth, NoOfContacts, DaysPassed, PrevAttempts, Outcome, CallStart, CallEnd, CarInsurance]\n",
              "Index: []"
            ]
          },
          "metadata": {
            "tags": []
          },
          "execution_count": 8
        }
      ]
    },
    {
      "metadata": {
        "id": "34mmZV9K5pss",
        "colab_type": "code",
        "colab": {
          "autoexec": {
            "startup": false,
            "wait_interval": 0
          },
          "base_uri": "https://localhost:8080/",
          "height": 413
        },
        "outputId": "e71534dc-e4aa-40a8-e720-2c2217b3b47f",
        "executionInfo": {
          "status": "ok",
          "timestamp": 1524226846166,
          "user_tz": -330,
          "elapsed": 962,
          "user": {
            "displayName": "Ajith Chacko",
            "photoUrl": "//lh3.googleusercontent.com/-IM028mODtmk/AAAAAAAAAAI/AAAAAAAAAE8/4dhiV_wDIpk/s50-c-k-no/photo.jpg",
            "userId": "114111954649895676809"
          }
        }
      },
      "cell_type": "code",
      "source": [
        "sns.boxplot(train_new['DaysPassed'])\n",
        "\n",
        "train_new[train_new['DaysPassed']>600]\n",
        "\n",
        "train_new = train_new.drop([118,618,1147,1356,1913,1958,3136,3362,3590])\n",
        "\n",
        "train_new[train_new['DaysPassed']>600]\n"
      ],
      "execution_count": 9,
      "outputs": [
        {
          "output_type": "execute_result",
          "data": {
            "text/html": [
              "<div>\n",
              "<style scoped>\n",
              "    .dataframe tbody tr th:only-of-type {\n",
              "        vertical-align: middle;\n",
              "    }\n",
              "\n",
              "    .dataframe tbody tr th {\n",
              "        vertical-align: top;\n",
              "    }\n",
              "\n",
              "    .dataframe thead th {\n",
              "        text-align: right;\n",
              "    }\n",
              "</style>\n",
              "<table border=\"1\" class=\"dataframe\">\n",
              "  <thead>\n",
              "    <tr style=\"text-align: right;\">\n",
              "      <th></th>\n",
              "      <th>Id</th>\n",
              "      <th>Age</th>\n",
              "      <th>Job</th>\n",
              "      <th>Marital</th>\n",
              "      <th>Education</th>\n",
              "      <th>Default</th>\n",
              "      <th>Balance</th>\n",
              "      <th>HHInsurance</th>\n",
              "      <th>CarLoan</th>\n",
              "      <th>Communication</th>\n",
              "      <th>LastContactDay</th>\n",
              "      <th>LastContactMonth</th>\n",
              "      <th>NoOfContacts</th>\n",
              "      <th>DaysPassed</th>\n",
              "      <th>PrevAttempts</th>\n",
              "      <th>Outcome</th>\n",
              "      <th>CallStart</th>\n",
              "      <th>CallEnd</th>\n",
              "      <th>CarInsurance</th>\n",
              "    </tr>\n",
              "  </thead>\n",
              "  <tbody>\n",
              "  </tbody>\n",
              "</table>\n",
              "</div>"
            ],
            "text/plain": [
              "Empty DataFrame\n",
              "Columns: [Id, Age, Job, Marital, Education, Default, Balance, HHInsurance, CarLoan, Communication, LastContactDay, LastContactMonth, NoOfContacts, DaysPassed, PrevAttempts, Outcome, CallStart, CallEnd, CarInsurance]\n",
              "Index: []"
            ]
          },
          "metadata": {
            "tags": []
          },
          "execution_count": 9
        },
        {
          "output_type": "display_data",
          "data": {
            "image/png": "[encoded data removed]",
            "text/plain": [
              "<matplotlib.figure.Figure at 0x7f30a4786320>"
            ]
          },
          "metadata": {
            "tags": []
          }
        }
      ]
    },
    {
      "metadata": {
        "id": "u51d5nX75ti8",
        "colab_type": "code",
        "colab": {
          "autoexec": {
            "startup": false,
            "wait_interval": 0
          },
          "base_uri": "https://localhost:8080/",
          "height": 622
        },
        "outputId": "ff7edfb3-09a3-45db-d187-1f4ed35ba239",
        "executionInfo": {
          "status": "ok",
          "timestamp": 1524226848856,
          "user_tz": -330,
          "elapsed": 996,
          "user": {
            "displayName": "Ajith Chacko",
            "photoUrl": "//lh3.googleusercontent.com/-IM028mODtmk/AAAAAAAAAAI/AAAAAAAAAE8/4dhiV_wDIpk/s50-c-k-no/photo.jpg",
            "userId": "114111954649895676809"
          }
        }
      },
      "cell_type": "code",
      "source": [
        "#Filling the missing values using different methods\n",
        "\n",
        "\n",
        "# Using frontfill to fill the missing values in Job and Education fields\n",
        "train_new['Job'] = train_new['Job'].fillna(method ='pad')\n",
        "train_new['Education'] = train_new['Education'].fillna(method ='pad')\n",
        "\n",
        "# Using none to fill Nan values in Communication and Outcome fields\n",
        "train_new['Communication'] = train_new['Communication'].fillna('none')\n",
        "train_new['Outcome'] = train_new['Outcome'].fillna('none')\n",
        "\n",
        "print(\"Missing % of attributes in Train\")\n",
        "print( train_new.apply(lambda x: x.isnull().sum()*100.0/len(train_new),axis=0) )\n",
        "\n",
        "train_new.head()"
      ],
      "execution_count": 10,
      "outputs": [
        {
          "output_type": "stream",
          "text": [
            "Missing % of attributes in Train\n",
            "Id                  0.0\n",
            "Age                 0.0\n",
            "Job                 0.0\n",
            "Marital             0.0\n",
            "Education           0.0\n",
            "Default             0.0\n",
            "Balance             0.0\n",
            "HHInsurance         0.0\n",
            "CarLoan             0.0\n",
            "Communication       0.0\n",
            "LastContactDay      0.0\n",
            "LastContactMonth    0.0\n",
            "NoOfContacts        0.0\n",
            "DaysPassed          0.0\n",
            "PrevAttempts        0.0\n",
            "Outcome             0.0\n",
            "CallStart           0.0\n",
            "CallEnd             0.0\n",
            "CarInsurance        0.0\n",
            "dtype: float64\n"
          ],
          "name": "stdout"
        },
        {
          "output_type": "execute_result",
          "data": {
            "text/html": [
              "<div>\n",
              "<style scoped>\n",
              "    .dataframe tbody tr th:only-of-type {\n",
              "        vertical-align: middle;\n",
              "    }\n",
              "\n",
              "    .dataframe tbody tr th {\n",
              "        vertical-align: top;\n",
              "    }\n",
              "\n",
              "    .dataframe thead th {\n",
              "        text-align: right;\n",
              "    }\n",
              "</style>\n",
              "<table border=\"1\" class=\"dataframe\">\n",
              "  <thead>\n",
              "    <tr style=\"text-align: right;\">\n",
              "      <th></th>\n",
              "      <th>Id</th>\n",
              "      <th>Age</th>\n",
              "      <th>Job</th>\n",
              "      <th>Marital</th>\n",
              "      <th>Education</th>\n",
              "      <th>Default</th>\n",
              "      <th>Balance</th>\n",
              "      <th>HHInsurance</th>\n",
              "      <th>CarLoan</th>\n",
              "      <th>Communication</th>\n",
              "      <th>LastContactDay</th>\n",
              "      <th>LastContactMonth</th>\n",
              "      <th>NoOfContacts</th>\n",
              "      <th>DaysPassed</th>\n",
              "      <th>PrevAttempts</th>\n",
              "      <th>Outcome</th>\n",
              "      <th>CallStart</th>\n",
              "      <th>CallEnd</th>\n",
              "      <th>CarInsurance</th>\n",
              "    </tr>\n",
              "  </thead>\n",
              "  <tbody>\n",
              "    <tr>\n",
              "      <th>0</th>\n",
              "      <td>1</td>\n",
              "      <td>32</td>\n",
              "      <td>management</td>\n",
              "      <td>single</td>\n",
              "      <td>tertiary</td>\n",
              "      <td>0</td>\n",
              "      <td>1218</td>\n",
              "      <td>1</td>\n",
              "      <td>0</td>\n",
              "      <td>telephone</td>\n",
              "      <td>28</td>\n",
              "      <td>jan</td>\n",
              "      <td>2</td>\n",
              "      <td>-1</td>\n",
              "      <td>0</td>\n",
              "      <td>none</td>\n",
              "      <td>13:45:20</td>\n",
              "      <td>13:46:30</td>\n",
              "      <td>0</td>\n",
              "    </tr>\n",
              "    <tr>\n",
              "      <th>1</th>\n",
              "      <td>2</td>\n",
              "      <td>32</td>\n",
              "      <td>blue-collar</td>\n",
              "      <td>married</td>\n",
              "      <td>primary</td>\n",
              "      <td>0</td>\n",
              "      <td>1156</td>\n",
              "      <td>1</td>\n",
              "      <td>0</td>\n",
              "      <td>none</td>\n",
              "      <td>26</td>\n",
              "      <td>may</td>\n",
              "      <td>5</td>\n",
              "      <td>-1</td>\n",
              "      <td>0</td>\n",
              "      <td>none</td>\n",
              "      <td>14:49:03</td>\n",
              "      <td>14:52:08</td>\n",
              "      <td>0</td>\n",
              "    </tr>\n",
              "    <tr>\n",
              "      <th>2</th>\n",
              "      <td>3</td>\n",
              "      <td>29</td>\n",
              "      <td>management</td>\n",
              "      <td>single</td>\n",
              "      <td>tertiary</td>\n",
              "      <td>0</td>\n",
              "      <td>637</td>\n",
              "      <td>1</td>\n",
              "      <td>0</td>\n",
              "      <td>cellular</td>\n",
              "      <td>3</td>\n",
              "      <td>jun</td>\n",
              "      <td>1</td>\n",
              "      <td>119</td>\n",
              "      <td>1</td>\n",
              "      <td>failure</td>\n",
              "      <td>16:30:24</td>\n",
              "      <td>16:36:04</td>\n",
              "      <td>1</td>\n",
              "    </tr>\n",
              "    <tr>\n",
              "      <th>3</th>\n",
              "      <td>4</td>\n",
              "      <td>25</td>\n",
              "      <td>student</td>\n",
              "      <td>single</td>\n",
              "      <td>primary</td>\n",
              "      <td>0</td>\n",
              "      <td>373</td>\n",
              "      <td>1</td>\n",
              "      <td>0</td>\n",
              "      <td>cellular</td>\n",
              "      <td>11</td>\n",
              "      <td>may</td>\n",
              "      <td>2</td>\n",
              "      <td>-1</td>\n",
              "      <td>0</td>\n",
              "      <td>none</td>\n",
              "      <td>12:06:43</td>\n",
              "      <td>12:20:22</td>\n",
              "      <td>1</td>\n",
              "    </tr>\n",
              "    <tr>\n",
              "      <th>4</th>\n",
              "      <td>5</td>\n",
              "      <td>30</td>\n",
              "      <td>management</td>\n",
              "      <td>married</td>\n",
              "      <td>tertiary</td>\n",
              "      <td>0</td>\n",
              "      <td>2694</td>\n",
              "      <td>0</td>\n",
              "      <td>0</td>\n",
              "      <td>cellular</td>\n",
              "      <td>3</td>\n",
              "      <td>jun</td>\n",
              "      <td>1</td>\n",
              "      <td>-1</td>\n",
              "      <td>0</td>\n",
              "      <td>none</td>\n",
              "      <td>14:35:44</td>\n",
              "      <td>14:38:56</td>\n",
              "      <td>0</td>\n",
              "    </tr>\n",
              "  </tbody>\n",
              "</table>\n",
              "</div>"
            ],
            "text/plain": [
              "   Id  Age          Job  Marital Education  Default  Balance  HHInsurance  \\\n",
              "0   1   32   management   single  tertiary        0     1218            1   \n",
              "1   2   32  blue-collar  married   primary        0     1156            1   \n",
              "2   3   29   management   single  tertiary        0      637            1   \n",
              "3   4   25      student   single   primary        0      373            1   \n",
              "4   5   30   management  married  tertiary        0     2694            0   \n",
              "\n",
              "   CarLoan Communication  LastContactDay LastContactMonth  NoOfContacts  \\\n",
              "0        0     telephone              28              jan             2   \n",
              "1        0          none              26              may             5   \n",
              "2        0      cellular               3              jun             1   \n",
              "3        0      cellular              11              may             2   \n",
              "4        0      cellular               3              jun             1   \n",
              "\n",
              "   DaysPassed  PrevAttempts  Outcome CallStart   CallEnd  CarInsurance  \n",
              "0          -1             0     none  13:45:20  13:46:30             0  \n",
              "1          -1             0     none  14:49:03  14:52:08             0  \n",
              "2         119             1  failure  16:30:24  16:36:04             1  \n",
              "3          -1             0     none  12:06:43  12:20:22             1  \n",
              "4          -1             0     none  14:35:44  14:38:56             0  "
            ]
          },
          "metadata": {
            "tags": []
          },
          "execution_count": 10
        }
      ]
    },
    {
      "metadata": {
        "id": "9Mk7QeEs5zAa",
        "colab_type": "code",
        "colab": {
          "autoexec": {
            "startup": false,
            "wait_interval": 0
          },
          "base_uri": "https://localhost:8080/",
          "height": 226
        },
        "outputId": "acb3828c-e530-497d-8683-573c5de3277a",
        "executionInfo": {
          "status": "ok",
          "timestamp": 1524226862462,
          "user_tz": -330,
          "elapsed": 940,
          "user": {
            "displayName": "Ajith Chacko",
            "photoUrl": "//lh3.googleusercontent.com/-IM028mODtmk/AAAAAAAAAAI/AAAAAAAAAE8/4dhiV_wDIpk/s50-c-k-no/photo.jpg",
            "userId": "114111954649895676809"
          }
        }
      },
      "cell_type": "code",
      "source": [
        "# Fill missing outcome as not in previous campaign\n",
        "train_new[train_new['DaysPassed']==-1].count()\n",
        "train_new.loc[train_new['DaysPassed']==-1,'Outcome']='NoPrevContact'\n",
        "\n",
        "train_new.head()"
      ],
      "execution_count": 11,
      "outputs": [
        {
          "output_type": "execute_result",
          "data": {
            "text/html": [
              "<div>\n",
              "<style scoped>\n",
              "    .dataframe tbody tr th:only-of-type {\n",
              "        vertical-align: middle;\n",
              "    }\n",
              "\n",
              "    .dataframe tbody tr th {\n",
              "        vertical-align: top;\n",
              "    }\n",
              "\n",
              "    .dataframe thead th {\n",
              "        text-align: right;\n",
              "    }\n",
              "</style>\n",
              "<table border=\"1\" class=\"dataframe\">\n",
              "  <thead>\n",
              "    <tr style=\"text-align: right;\">\n",
              "      <th></th>\n",
              "      <th>Id</th>\n",
              "      <th>Age</th>\n",
              "      <th>Job</th>\n",
              "      <th>Marital</th>\n",
              "      <th>Education</th>\n",
              "      <th>Default</th>\n",
              "      <th>Balance</th>\n",
              "      <th>HHInsurance</th>\n",
              "      <th>CarLoan</th>\n",
              "      <th>Communication</th>\n",
              "      <th>LastContactDay</th>\n",
              "      <th>LastContactMonth</th>\n",
              "      <th>NoOfContacts</th>\n",
              "      <th>DaysPassed</th>\n",
              "      <th>PrevAttempts</th>\n",
              "      <th>Outcome</th>\n",
              "      <th>CallStart</th>\n",
              "      <th>CallEnd</th>\n",
              "      <th>CarInsurance</th>\n",
              "    </tr>\n",
              "  </thead>\n",
              "  <tbody>\n",
              "    <tr>\n",
              "      <th>0</th>\n",
              "      <td>1</td>\n",
              "      <td>32</td>\n",
              "      <td>management</td>\n",
              "      <td>single</td>\n",
              "      <td>tertiary</td>\n",
              "      <td>0</td>\n",
              "      <td>1218</td>\n",
              "      <td>1</td>\n",
              "      <td>0</td>\n",
              "      <td>telephone</td>\n",
              "      <td>28</td>\n",
              "      <td>jan</td>\n",
              "      <td>2</td>\n",
              "      <td>-1</td>\n",
              "      <td>0</td>\n",
              "      <td>NoPrevContact</td>\n",
              "      <td>13:45:20</td>\n",
              "      <td>13:46:30</td>\n",
              "      <td>0</td>\n",
              "    </tr>\n",
              "    <tr>\n",
              "      <th>1</th>\n",
              "      <td>2</td>\n",
              "      <td>32</td>\n",
              "      <td>blue-collar</td>\n",
              "      <td>married</td>\n",
              "      <td>primary</td>\n",
              "      <td>0</td>\n",
              "      <td>1156</td>\n",
              "      <td>1</td>\n",
              "      <td>0</td>\n",
              "      <td>none</td>\n",
              "      <td>26</td>\n",
              "      <td>may</td>\n",
              "      <td>5</td>\n",
              "      <td>-1</td>\n",
              "      <td>0</td>\n",
              "      <td>NoPrevContact</td>\n",
              "      <td>14:49:03</td>\n",
              "      <td>14:52:08</td>\n",
              "      <td>0</td>\n",
              "    </tr>\n",
              "    <tr>\n",
              "      <th>2</th>\n",
              "      <td>3</td>\n",
              "      <td>29</td>\n",
              "      <td>management</td>\n",
              "      <td>single</td>\n",
              "      <td>tertiary</td>\n",
              "      <td>0</td>\n",
              "      <td>637</td>\n",
              "      <td>1</td>\n",
              "      <td>0</td>\n",
              "      <td>cellular</td>\n",
              "      <td>3</td>\n",
              "      <td>jun</td>\n",
              "      <td>1</td>\n",
              "      <td>119</td>\n",
              "      <td>1</td>\n",
              "      <td>failure</td>\n",
              "      <td>16:30:24</td>\n",
              "      <td>16:36:04</td>\n",
              "      <td>1</td>\n",
              "    </tr>\n",
              "    <tr>\n",
              "      <th>3</th>\n",
              "      <td>4</td>\n",
              "      <td>25</td>\n",
              "      <td>student</td>\n",
              "      <td>single</td>\n",
              "      <td>primary</td>\n",
              "      <td>0</td>\n",
              "      <td>373</td>\n",
              "      <td>1</td>\n",
              "      <td>0</td>\n",
              "      <td>cellular</td>\n",
              "      <td>11</td>\n",
              "      <td>may</td>\n",
              "      <td>2</td>\n",
              "      <td>-1</td>\n",
              "      <td>0</td>\n",
              "      <td>NoPrevContact</td>\n",
              "      <td>12:06:43</td>\n",
              "      <td>12:20:22</td>\n",
              "      <td>1</td>\n",
              "    </tr>\n",
              "    <tr>\n",
              "      <th>4</th>\n",
              "      <td>5</td>\n",
              "      <td>30</td>\n",
              "      <td>management</td>\n",
              "      <td>married</td>\n",
              "      <td>tertiary</td>\n",
              "      <td>0</td>\n",
              "      <td>2694</td>\n",
              "      <td>0</td>\n",
              "      <td>0</td>\n",
              "      <td>cellular</td>\n",
              "      <td>3</td>\n",
              "      <td>jun</td>\n",
              "      <td>1</td>\n",
              "      <td>-1</td>\n",
              "      <td>0</td>\n",
              "      <td>NoPrevContact</td>\n",
              "      <td>14:35:44</td>\n",
              "      <td>14:38:56</td>\n",
              "      <td>0</td>\n",
              "    </tr>\n",
              "  </tbody>\n",
              "</table>\n",
              "</div>"
            ],
            "text/plain": [
              "   Id  Age          Job  Marital Education  Default  Balance  HHInsurance  \\\n",
              "0   1   32   management   single  tertiary        0     1218            1   \n",
              "1   2   32  blue-collar  married   primary        0     1156            1   \n",
              "2   3   29   management   single  tertiary        0      637            1   \n",
              "3   4   25      student   single   primary        0      373            1   \n",
              "4   5   30   management  married  tertiary        0     2694            0   \n",
              "\n",
              "   CarLoan Communication  LastContactDay LastContactMonth  NoOfContacts  \\\n",
              "0        0     telephone              28              jan             2   \n",
              "1        0          none              26              may             5   \n",
              "2        0      cellular               3              jun             1   \n",
              "3        0      cellular              11              may             2   \n",
              "4        0      cellular               3              jun             1   \n",
              "\n",
              "   DaysPassed  PrevAttempts        Outcome CallStart   CallEnd  CarInsurance  \n",
              "0          -1             0  NoPrevContact  13:45:20  13:46:30             0  \n",
              "1          -1             0  NoPrevContact  14:49:03  14:52:08             0  \n",
              "2         119             1        failure  16:30:24  16:36:04             1  \n",
              "3          -1             0  NoPrevContact  12:06:43  12:20:22             1  \n",
              "4          -1             0  NoPrevContact  14:35:44  14:38:56             0  "
            ]
          },
          "metadata": {
            "tags": []
          },
          "execution_count": 11
        }
      ]
    },
    {
      "metadata": {
        "id": "TcI0nIHl533G",
        "colab_type": "code",
        "colab": {
          "autoexec": {
            "startup": false,
            "wait_interval": 0
          },
          "base_uri": "https://localhost:8080/",
          "height": 226
        },
        "outputId": "3534036b-abd2-449d-929e-97bf78507a8c",
        "executionInfo": {
          "status": "ok",
          "timestamp": 1524226864738,
          "user_tz": -330,
          "elapsed": 1280,
          "user": {
            "displayName": "Ajith Chacko",
            "photoUrl": "//lh3.googleusercontent.com/-IM028mODtmk/AAAAAAAAAAI/AAAAAAAAAE8/4dhiV_wDIpk/s50-c-k-no/photo.jpg",
            "userId": "114111954649895676809"
          }
        }
      },
      "cell_type": "code",
      "source": [
        "#Feature Extraction\n",
        "\n",
        "#Creating categorical variables for Age,Balance variables\n",
        "train_new['AgeBinned'] = pd.qcut(train_new['Age'], 5 , labels = False)\n",
        "train_new['BalanceBinned'] = pd.qcut(train_new['Balance'], 5,labels = False)\n",
        "\n",
        "#Converting CallStart and CallEnd to datetime datatype\n",
        "train_new['CallStart'] = pd.to_datetime(train_new['CallStart'] )\n",
        "train_new['CallEnd'] = pd.to_datetime(train_new['CallEnd'] )\n",
        "#Subtracting both the Start and End times to arrive at the actual CallTime\n",
        "train_new['CallTime'] = (train_new['CallEnd'] - train_new['CallStart']).dt.total_seconds()\n",
        "#Binning the CallTime\n",
        "train_new['CallTimeBinned'] = pd.qcut(train_new['CallTime'], 5,labels = False)\n",
        "\n",
        "#Dropping the original columns of the binned, just to make things easy\n",
        "train_new.drop(['Age','Balance','CallStart','CallEnd','CallTime'],axis = 1,inplace = True)\n",
        "\n",
        "#Creating categorical variable for DaysPassed variable\n",
        "train_new.loc[(train_new['DaysPassed']>=-1) & (train_new['DaysPassed']<0),'DaysPassedBin'] = 1\n",
        "train_new.loc[(train_new['DaysPassed']>=0) & (train_new['DaysPassed']<20),'DaysPassedBin'] = 2\n",
        "train_new.loc[(train_new['DaysPassed']>=20) & (train_new['DaysPassed']<50),'DaysPassedBin'] = 3\n",
        "train_new.loc[(train_new['DaysPassed']>=50) & (train_new['DaysPassed']<100),'DaysPassedBin'] = 4\n",
        "train_new.loc[(train_new['DaysPassed']>=100) & (train_new['DaysPassed']<300),'DaysPassedBin'] = 5\n",
        "train_new.loc[(train_new['DaysPassed']>=300),'DaysPassedBin'] = 6\n",
        "train_new['DaysPassedBin'] = train_new['DaysPassedBin'].astype(int)\n",
        "train_new.drop(['DaysPassed'],axis = 1,inplace = True)\n",
        "\n",
        "train_new.drop(['Id'],axis = 1,inplace = True)\n",
        "\n",
        "train_new.head()"
      ],
      "execution_count": 12,
      "outputs": [
        {
          "output_type": "execute_result",
          "data": {
            "text/html": [
              "<div>\n",
              "<style scoped>\n",
              "    .dataframe tbody tr th:only-of-type {\n",
              "        vertical-align: middle;\n",
              "    }\n",
              "\n",
              "    .dataframe tbody tr th {\n",
              "        vertical-align: top;\n",
              "    }\n",
              "\n",
              "    .dataframe thead th {\n",
              "        text-align: right;\n",
              "    }\n",
              "</style>\n",
              "<table border=\"1\" class=\"dataframe\">\n",
              "  <thead>\n",
              "    <tr style=\"text-align: right;\">\n",
              "      <th></th>\n",
              "      <th>Job</th>\n",
              "      <th>Marital</th>\n",
              "      <th>Education</th>\n",
              "      <th>Default</th>\n",
              "      <th>HHInsurance</th>\n",
              "      <th>CarLoan</th>\n",
              "      <th>Communication</th>\n",
              "      <th>LastContactDay</th>\n",
              "      <th>LastContactMonth</th>\n",
              "      <th>NoOfContacts</th>\n",
              "      <th>PrevAttempts</th>\n",
              "      <th>Outcome</th>\n",
              "      <th>CarInsurance</th>\n",
              "      <th>AgeBinned</th>\n",
              "      <th>BalanceBinned</th>\n",
              "      <th>CallTimeBinned</th>\n",
              "      <th>DaysPassedBin</th>\n",
              "    </tr>\n",
              "  </thead>\n",
              "  <tbody>\n",
              "    <tr>\n",
              "      <th>0</th>\n",
              "      <td>management</td>\n",
              "      <td>single</td>\n",
              "      <td>tertiary</td>\n",
              "      <td>0</td>\n",
              "      <td>1</td>\n",
              "      <td>0</td>\n",
              "      <td>telephone</td>\n",
              "      <td>28</td>\n",
              "      <td>jan</td>\n",
              "      <td>2</td>\n",
              "      <td>0</td>\n",
              "      <td>NoPrevContact</td>\n",
              "      <td>0</td>\n",
              "      <td>1</td>\n",
              "      <td>3</td>\n",
              "      <td>0</td>\n",
              "      <td>1</td>\n",
              "    </tr>\n",
              "    <tr>\n",
              "      <th>1</th>\n",
              "      <td>blue-collar</td>\n",
              "      <td>married</td>\n",
              "      <td>primary</td>\n",
              "      <td>0</td>\n",
              "      <td>1</td>\n",
              "      <td>0</td>\n",
              "      <td>none</td>\n",
              "      <td>26</td>\n",
              "      <td>may</td>\n",
              "      <td>5</td>\n",
              "      <td>0</td>\n",
              "      <td>NoPrevContact</td>\n",
              "      <td>0</td>\n",
              "      <td>1</td>\n",
              "      <td>3</td>\n",
              "      <td>2</td>\n",
              "      <td>1</td>\n",
              "    </tr>\n",
              "    <tr>\n",
              "      <th>2</th>\n",
              "      <td>management</td>\n",
              "      <td>single</td>\n",
              "      <td>tertiary</td>\n",
              "      <td>0</td>\n",
              "      <td>1</td>\n",
              "      <td>0</td>\n",
              "      <td>cellular</td>\n",
              "      <td>3</td>\n",
              "      <td>jun</td>\n",
              "      <td>1</td>\n",
              "      <td>1</td>\n",
              "      <td>failure</td>\n",
              "      <td>1</td>\n",
              "      <td>0</td>\n",
              "      <td>2</td>\n",
              "      <td>3</td>\n",
              "      <td>5</td>\n",
              "    </tr>\n",
              "    <tr>\n",
              "      <th>3</th>\n",
              "      <td>student</td>\n",
              "      <td>single</td>\n",
              "      <td>primary</td>\n",
              "      <td>0</td>\n",
              "      <td>1</td>\n",
              "      <td>0</td>\n",
              "      <td>cellular</td>\n",
              "      <td>11</td>\n",
              "      <td>may</td>\n",
              "      <td>2</td>\n",
              "      <td>0</td>\n",
              "      <td>NoPrevContact</td>\n",
              "      <td>1</td>\n",
              "      <td>0</td>\n",
              "      <td>2</td>\n",
              "      <td>4</td>\n",
              "      <td>1</td>\n",
              "    </tr>\n",
              "    <tr>\n",
              "      <th>4</th>\n",
              "      <td>management</td>\n",
              "      <td>married</td>\n",
              "      <td>tertiary</td>\n",
              "      <td>0</td>\n",
              "      <td>0</td>\n",
              "      <td>0</td>\n",
              "      <td>cellular</td>\n",
              "      <td>3</td>\n",
              "      <td>jun</td>\n",
              "      <td>1</td>\n",
              "      <td>0</td>\n",
              "      <td>NoPrevContact</td>\n",
              "      <td>0</td>\n",
              "      <td>0</td>\n",
              "      <td>4</td>\n",
              "      <td>2</td>\n",
              "      <td>1</td>\n",
              "    </tr>\n",
              "  </tbody>\n",
              "</table>\n",
              "</div>"
            ],
            "text/plain": [
              "           Job  Marital Education  Default  HHInsurance  CarLoan  \\\n",
              "0   management   single  tertiary        0            1        0   \n",
              "1  blue-collar  married   primary        0            1        0   \n",
              "2   management   single  tertiary        0            1        0   \n",
              "3      student   single   primary        0            1        0   \n",
              "4   management  married  tertiary        0            0        0   \n",
              "\n",
              "  Communication  LastContactDay LastContactMonth  NoOfContacts  PrevAttempts  \\\n",
              "0     telephone              28              jan             2             0   \n",
              "1          none              26              may             5             0   \n",
              "2      cellular               3              jun             1             1   \n",
              "3      cellular              11              may             2             0   \n",
              "4      cellular               3              jun             1             0   \n",
              "\n",
              "         Outcome  CarInsurance  AgeBinned  BalanceBinned  CallTimeBinned  \\\n",
              "0  NoPrevContact             0          1              3               0   \n",
              "1  NoPrevContact             0          1              3               2   \n",
              "2        failure             1          0              2               3   \n",
              "3  NoPrevContact             1          0              2               4   \n",
              "4  NoPrevContact             0          0              4               2   \n",
              "\n",
              "   DaysPassedBin  \n",
              "0              1  \n",
              "1              1  \n",
              "2              5  \n",
              "3              1  \n",
              "4              1  "
            ]
          },
          "metadata": {
            "tags": []
          },
          "execution_count": 12
        }
      ]
    },
    {
      "metadata": {
        "id": "BLY5HAGP6Gis",
        "colab_type": "code",
        "colab": {
          "autoexec": {
            "startup": false,
            "wait_interval": 0
          }
        }
      },
      "cell_type": "code",
      "source": [
        "\n",
        "#Splitting data into features and target variable\n",
        "X= train_new.drop(['CarInsurance'],axis=1)\n",
        "Y= train_new['CarInsurance']"
      ],
      "execution_count": 0,
      "outputs": []
    },
    {
      "metadata": {
        "id": "TBBV91Gp6aHM",
        "colab_type": "code",
        "colab": {
          "autoexec": {
            "startup": false,
            "wait_interval": 0
          }
        }
      },
      "cell_type": "code",
      "source": [
        "#Encoding Categorical Variables\n",
        "from sklearn.preprocessing import LabelEncoder,OneHotEncoder\n",
        "labelencoder=LabelEncoder()\n",
        "X['Job']=labelencoder.fit_transform(X['Job'])\n",
        "X['Marital']=labelencoder.fit_transform(X['Marital'])\n",
        "X['Education']=labelencoder.fit_transform(X['Education'])\n",
        "X['Communication']=labelencoder.fit_transform(X['Communication'])\n",
        "X['LastContactMonth']=labelencoder.fit_transform(X['LastContactMonth'])\n",
        "X['Outcome']=labelencoder.fit_transform(X['Outcome'])\n",
        "X['AgeBinned']=labelencoder.fit_transform(X['AgeBinned'])\n",
        "X['BalanceBinned']=labelencoder.fit_transform(X['BalanceBinned'])\n",
        "X['CallTimeBinned']=labelencoder.fit_transform(X['CallTimeBinned'])\n",
        "X['DaysPassedBin']=labelencoder.fit_transform(X['DaysPassedBin'])\n",
        "onehotencoder=OneHotEncoder(categorical_features=(0,1,2,6,7,8,12,13,14,15))\n",
        "X = onehotencoder.fit_transform(X)"
      ],
      "execution_count": 0,
      "outputs": []
    },
    {
      "metadata": {
        "id": "bKx-6k4J6dpK",
        "colab_type": "code",
        "colab": {
          "autoexec": {
            "startup": false,
            "wait_interval": 0
          }
        }
      },
      "cell_type": "code",
      "source": [
        "import warnings\n",
        "warnings.filterwarnings('ignore')\n",
        "#data divided into train and test  \n",
        "from sklearn.cross_validation import train_test_split\n",
        "x_train,x_test,y_train,y_test = train_test_split(X,Y,test_size=0.2,random_state=1)"
      ],
      "execution_count": 0,
      "outputs": []
    },
    {
      "metadata": {
        "id": "-d4IPuFR6on0",
        "colab_type": "code",
        "colab": {
          "autoexec": {
            "startup": false,
            "wait_interval": 0
          },
          "base_uri": "https://localhost:8080/",
          "height": 583
        },
        "outputId": "8a8174d1-1af4-4979-c420-6082a6ac2428",
        "executionInfo": {
          "status": "ok",
          "timestamp": 1524230993578,
          "user_tz": -330,
          "elapsed": 14286,
          "user": {
            "displayName": "Ajith Chacko",
            "photoUrl": "//lh3.googleusercontent.com/-IM028mODtmk/AAAAAAAAAAI/AAAAAAAAAE8/4dhiV_wDIpk/s50-c-k-no/photo.jpg",
            "userId": "114111954649895676809"
          }
        }
      },
      "cell_type": "code",
      "source": [
        "import warnings\n",
        "warnings.filterwarnings('ignore')\n",
        "# Cross Validation Engine for predicting the different model's preformance\n",
        "from sklearn.tree import DecisionTreeClassifier\n",
        "from sklearn.model_selection import cross_val_score\n",
        "from sklearn.metrics import roc_curve, auc,accuracy_score,confusion_matrix,make_scorer\n",
        "import xgboost as xgb \n",
        "from sklearn.ensemble import RandomForestClassifier\n",
        "from sklearn.svm import SVC,LinearSVC\n",
        "from sklearn.linear_model import LogisticRegression\n",
        "\n",
        "cls={\"DT\":DecisionTreeClassifier(),\"xgb\":xgb.XGBClassifier(objective='binary:logistic', seed=1),'RF':RandomForestClassifier(random_state=123),'SVM':SVC(kernel='rbf'),'LR':LogisticRegression(random_state=123),'LinearSVC':LinearSVC()}\n",
        "dic={}\n",
        "trainaccs={}\n",
        "testaccs={}\n",
        "for i,j in cls.items():\n",
        "\tclassifier1=j\n",
        "\tclassifier1.fit(x_train,y_train)\n",
        "\tcv_score=cross_val_score(j,x_train,y_train,cv=10,scoring='accuracy')\n",
        "\tprint(\"\\nCross validation score of classifier\",i,\"on data is \",cv_score.mean())\n",
        "\t#mean accuracy score of classifier  on training set \n",
        "\ttr1=classifier1.score(x_train,y_train)\n",
        "\ttrainaccs[i]=tr1\n",
        "\tprint (\"----mean Training accuracy of--\",i,\"--classifier is ->>\",tr1)\n",
        "\t#mean accuracy score of classifier  on testing  set\n",
        "\ttr2=classifier1.score(x_test,y_test)\n",
        "\ttestaccs[i]=tr2\n",
        "\tprint (\"----mean Testing accuracy of--\",i,\"--classifier is ->>\",tr2)\n",
        "\n",
        "\ty_preddt=classifier1.predict(x_test)\n",
        "\n",
        "\tfrom sklearn.metrics import roc_auc_score\n",
        "\tr=roc_auc_score(y_test, y_preddt)\n",
        "\tdic[i]=r\n",
        "\tprint (\"the roc_auc_score is for model\",i ,\"is\",r*100)\n"
      ],
      "execution_count": 38,
      "outputs": [
        {
          "output_type": "stream",
          "text": [
            "\n",
            "Cross validation score of classifier DT on data is  0.7713084200824115\n",
            "----mean Training accuracy of-- DT --classifier is ->> 1.0\n",
            "----mean Testing accuracy of-- DT --classifier is ->> 0.7556390977443609\n",
            "the roc_auc_score is for model DT is 75.1903651903652\n",
            "\n",
            "Cross validation score of classifier xgb on data is  0.842405974596321\n",
            "----mean Training accuracy of-- xgb --classifier is ->> 0.8615288220551378\n",
            "----mean Testing accuracy of-- xgb --classifier is ->> 0.8320802005012531\n",
            "the roc_auc_score is for model xgb is 82.82439782439782\n",
            "\n",
            "Cross validation score of classifier RF on data is  0.8157816535557263\n",
            "----mean Training accuracy of-- RF --classifier is ->> 0.9896616541353384\n",
            "----mean Testing accuracy of-- RF --classifier is ->> 0.8107769423558897\n",
            "the roc_auc_score is for model RF is 80.38267288267289\n",
            "\n",
            "Cross validation score of classifier SVM on data is  0.8057571136708661\n",
            "----mean Training accuracy of-- SVM --classifier is ->> 0.8220551378446115\n",
            "----mean Testing accuracy of-- SVM --classifier is ->> 0.8070175438596491\n",
            "the roc_auc_score is for model SVM is 79.16860916860917\n",
            "\n",
            "Cross validation score of classifier LR on data is  0.8276723213757615\n",
            "----mean Training accuracy of-- LR --classifier is ->> 0.8421052631578947\n",
            "----mean Testing accuracy of-- LR --classifier is ->> 0.818295739348371\n",
            "the roc_auc_score is for model LR is 81.24708624708624\n",
            "\n",
            "Cross validation score of classifier LinearSVC on data is  0.8295483009995859\n",
            "----mean Training accuracy of-- LinearSVC --classifier is ->> 0.8439849624060151\n",
            "----mean Testing accuracy of-- LinearSVC --classifier is ->> 0.8170426065162907\n",
            "the roc_auc_score is for model LinearSVC is 81.09557109557109\n"
          ],
          "name": "stdout"
        }
      ]
    },
    {
      "metadata": {
        "id": "WBbdbl1ATBNe",
        "colab_type": "text"
      },
      "cell_type": "markdown",
      "source": [
        "''' \n",
        "We look at the Cross validation score, mean training accuracy, mean testing accuracy and roc_auc score.\n",
        "\n",
        "We found that XGBoost Classifier is the best performing clasifier.\n",
        "\n",
        "Random Forest Classifier and Decision Tree Classifiers are overfitting the data , as the variance is high. \n",
        "'''\n"
      ]
    },
    {
      "metadata": {
        "id": "Deq-Gt0U8GQy",
        "colab_type": "code",
        "colab": {
          "autoexec": {
            "startup": false,
            "wait_interval": 0
          },
          "base_uri": "https://localhost:8080/",
          "height": 187
        },
        "outputId": "b39a71b1-21db-4e2f-b8c4-db80f7bfb6de",
        "executionInfo": {
          "status": "ok",
          "timestamp": 1524230510760,
          "user_tz": -330,
          "elapsed": 3141320,
          "user": {
            "displayName": "Ajith Chacko",
            "photoUrl": "//lh3.googleusercontent.com/-IM028mODtmk/AAAAAAAAAAI/AAAAAAAAAE8/4dhiV_wDIpk/s50-c-k-no/photo.jpg",
            "userId": "114111954649895676809"
          }
        }
      },
      "cell_type": "code",
      "source": [
        "#Hyperparameter tuning using GridSearchCV\n",
        "import warnings\n",
        "warnings.filterwarnings('ignore')\n",
        "\n",
        "import xgboost as xgb \n",
        "classifier = xgb.XGBClassifier(objective='binary:logistic', seed=123)\n",
        "\n",
        "from sklearn.grid_search import GridSearchCV\n",
        "n_estimators=[10,50,100,200,300]\n",
        "max_depth=[2,3,4,5]\n",
        "learning_rate=[0.1,0.01]\n",
        "colsample_bytree=[0.5,0.6,0.7]\n",
        "min_child_weight=[1,2,3]\n",
        "gamma=[0.001,0.01,0.1]\n",
        "subsample=[0.6,0.7,0.8]\n",
        "\n",
        "param_grid=dict(n_estimators=n_estimators,max_depth=max_depth,learning_rate=learning_rate,colsample_bytree=colsample_bytree,min_child_weight=min_child_weight,gamma=gamma,subsample=subsample)\n",
        "\n",
        "grid = GridSearchCV(classifier, param_grid, cv=10, scoring='accuracy')\n",
        "grid.fit(X, Y)\n",
        "grid.grid_scores_\n",
        "\n",
        "print(grid.best_score_)\n",
        "print(grid.best_params_)\n",
        "print(grid.best_estimator_)\n",
        "\n"
      ],
      "execution_count": 23,
      "outputs": [
        {
          "output_type": "stream",
          "text": [
            "0.8471177944862155\n",
            "{'colsample_bytree': 0.6, 'gamma': 0.1, 'learning_rate': 0.1, 'max_depth': 3, 'min_child_weight': 1, 'n_estimators': 200, 'subsample': 0.8}\n",
            "XGBClassifier(base_score=0.5, booster='gbtree', colsample_bylevel=1,\n",
            "       colsample_bytree=0.6, gamma=0.1, learning_rate=0.1,\n",
            "       max_delta_step=0, max_depth=3, min_child_weight=1, missing=None,\n",
            "       n_estimators=200, n_jobs=1, nthread=None,\n",
            "       objective='binary:logistic', random_state=0, reg_alpha=0,\n",
            "       reg_lambda=1, scale_pos_weight=1, seed=123, silent=True,\n",
            "       subsample=0.8)\n"
          ],
          "name": "stdout"
        }
      ]
    },
    {
      "metadata": {
        "id": "QCh0kPIF9X5S",
        "colab_type": "code",
        "colab": {
          "autoexec": {
            "startup": false,
            "wait_interval": 0
          },
          "base_uri": "https://localhost:8080/",
          "height": 36
        },
        "outputId": "e221cb97-97c5-4382-b8c7-c8d148ac1d44",
        "executionInfo": {
          "status": "ok",
          "timestamp": 1524232099378,
          "user_tz": -330,
          "elapsed": 890,
          "user": {
            "displayName": "Ajith Chacko",
            "photoUrl": "//lh3.googleusercontent.com/-IM028mODtmk/AAAAAAAAAAI/AAAAAAAAAE8/4dhiV_wDIpk/s50-c-k-no/photo.jpg",
            "userId": "114111954649895676809"
          }
        }
      },
      "cell_type": "code",
      "source": [
        "import warnings\n",
        "warnings.filterwarnings('ignore')\n",
        "\n",
        "#Best model is XGB Classifier\n",
        "import xgboost as xgb \n",
        "#best parameters obtained through gridsearch is applied\n",
        "classifier = xgb.XGBClassifier(objective='binary:logistic',colsample_bytree=0.6,learning_rate=0.1,max_depth=3,n_estimators=200,gamma=0.1,min_child_weight=1,subsample=0.8,seed=1)\n",
        "#fitting the model to the training set\n",
        "classifier.fit(x_train, y_train)\n",
        "\n",
        "# Predicting the Test set results\n",
        "Y_pred = classifier.predict(x_test)\n",
        "\n",
        "# Making the Confusion Matrix\n",
        "from sklearn.metrics import confusion_matrix\n",
        "cm = confusion_matrix(y_test, Y_pred)\n",
        "\n",
        "print('Final Model Accuracy: %.5f'%(accuracy_score(y_test,Y_pred)))"
      ],
      "execution_count": 56,
      "outputs": [
        {
          "output_type": "stream",
          "text": [
            "Final Model Accuracy: 0.84461\n"
          ],
          "name": "stdout"
        }
      ]
    },
    {
      "metadata": {
        "id": "m-n8ORybUBGq",
        "colab_type": "code",
        "colab": {
          "autoexec": {
            "startup": false,
            "wait_interval": 0
          }
        }
      },
      "cell_type": "code",
      "source": [
        ""
      ],
      "execution_count": 0,
      "outputs": []
    }
  ]
}